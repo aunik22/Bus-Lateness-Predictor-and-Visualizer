{
 "cells": [
  {
   "cell_type": "code",
   "execution_count": 14,
   "metadata": {},
   "outputs": [],
   "source": [
    "import numpy as np\n",
    "import pandas as pd\n",
    "from sklearn.preprocessing import LabelEncoder,OneHotEncoder\n",
    "from sklearn.linear_model import LinearRegression\n",
    "import math"
   ]
  },
  {
   "cell_type": "code",
   "execution_count": 15,
   "metadata": {},
   "outputs": [],
   "source": [
    "trainingPercent = 70\n",
    "validationPercent = 10\n",
    "testingPercent = 20"
   ]
  },
  {
   "cell_type": "code",
   "execution_count": 16,
   "metadata": {},
   "outputs": [],
   "source": [
    "def getDf(fileName):                       # Function to read file and store data in a dataframe\n",
    "    df = pd.read_csv(fileName)             # df is my dataframe with all the values\n",
    "    return df                              # Returns the dataframe"
   ]
  },
  {
   "cell_type": "code",
   "execution_count": 17,
   "metadata": {},
   "outputs": [],
   "source": [
    "def encodeSubsidiary(df):                             # Encodes the categorical subsidiaries to numerical values\n",
    "    df.Subsidiary = pd.Categorical(df.Subsidiary)\n",
    "    df['Subsidiary'] = df.Subsidiary.cat.codes\n",
    "    return df                                         # Returns the modified dataframe"
   ]
  },
  {
   "cell_type": "code",
   "execution_count": 18,
   "metadata": {},
   "outputs": [],
   "source": [
    "def getFeatureValues(df):                # Gets the feature matrix\n",
    "    featureData = df.iloc[:,0:3]\n",
    "    return featureData.values"
   ]
  },
  {
   "cell_type": "code",
   "execution_count": 19,
   "metadata": {},
   "outputs": [],
   "source": [
    "def normalizeValues(m):             # Function to normalize any matrix in parameter\n",
    "    m = (m-m.mean())/m.std()        # Formula to normalize matrix for python\n",
    "    return m                        # Return normalized matrix"
   ]
  },
  {
   "cell_type": "code",
   "execution_count": 20,
   "metadata": {},
   "outputs": [],
   "source": [
    "def targetValues(df):                # Get the target vector\n",
    "    targetData = df.iloc[:, 3:4]\n",
    "    return targetData.values"
   ]
  },
  {
   "cell_type": "code",
   "execution_count": 21,
   "metadata": {},
   "outputs": [],
   "source": [
    "def shuffleRows(df):            # Shuffle rows to get randomize rows of data for training and validation and testing\n",
    "    shuffled = df.sample(frac=1).reset_index(drop=True)\n",
    "    return shuffled"
   ]
  },
  {
   "cell_type": "code",
   "execution_count": 22,
   "metadata": {},
   "outputs": [],
   "source": [
    "def trainingData(df, trainingPercent):                            # Get training data to train the model\n",
    "    trainingDataRows = int(math.ceil(len(df)*trainingPercent*0.01))      # Get the number of rows for training data\n",
    "    tMat = df[:trainingDataRows]                                    # Return the new matrix only with the training data\n",
    "    return tMat                                                        "
   ]
  },
  {
   "cell_type": "code",
   "execution_count": 23,
   "metadata": {},
   "outputs": [],
   "source": [
    "def valData(df, validationPercent):\n",
    "    validationRows = int(math.ceil(len(df)*validationPercent*0.01))\n",
    "    trainingDataRows = int(math.ceil(len(df)*trainingPercent*0.01))\n",
    "    vRow = validationRows +trainingDataRows\n",
    "    vMat = df[trainingDataRows:vRow]\n",
    "    return vMat"
   ]
  },
  {
   "cell_type": "code",
   "execution_count": 24,
   "metadata": {},
   "outputs": [],
   "source": [
    "def testingData(df, testingPercent):\n",
    "    validationRows = int(math.ceil(len(df)*validationPercent*0.01))\n",
    "    trainingDataRows = int(math.ceil(len(df)*trainingPercent*0.01))\n",
    "    testingRows = int(math.ceil(len(df)*testingPercent*0.01))\n",
    "    vRow = validationRows +trainingDataRows\n",
    "    testRow = validationRows +trainingDataRows + testingRows\n",
    "    vMat = df[vRow:testRow]\n",
    "    return vMat"
   ]
  },
  {
   "cell_type": "code",
   "execution_count": 25,
   "metadata": {},
   "outputs": [],
   "source": [
    "def getRegressor():\n",
    "    regressor = LinearRegression()\n",
    "    return regressor"
   ]
  },
  {
   "cell_type": "code",
   "execution_count": 26,
   "metadata": {},
   "outputs": [],
   "source": [
    "def getFitModel(regressor,trainingFeatures,trainingTargets):\n",
    "    return regressor.fit(trainingFeatures,trainingTargets)"
   ]
  },
  {
   "cell_type": "code",
   "execution_count": 27,
   "metadata": {},
   "outputs": [],
   "source": [
    "def getPrediction(regressor,feature,target):\n",
    "    predictions = regressor.predict(feature)\n",
    "    return predictions"
   ]
  },
  {
   "cell_type": "code",
   "execution_count": 30,
   "metadata": {},
   "outputs": [],
   "source": [
    "def getLastCol(df):\n",
    "    return df.dtypes.index"
   ]
  },
  {
   "cell_type": "code",
   "execution_count": 53,
   "metadata": {},
   "outputs": [],
   "source": [
    "df = getDf('rochester-genesee-regional-transportation-authority-rgrta-percentage-of-buses-running-on-time-beginning-2009.csv')\n",
    "pos = df.columns[3]\n",
    "df = encodeSubsidiary(df)\n",
    "df = normalizeValues(df)\n",
    "df = shuffleRows(df)\n",
    "median_OnTime = df['Percent On-Time'].median()\n",
    "df['Percent On-Time'] = df['Percent On-Time'].fillna(median_OnTime)\n",
    "td = trainingData(df,trainingPercent)\n",
    "vd = valData(df,validationPercent)\n",
    "testd = testingData(df,testingPercent)\n",
    "td_x = getFeatureValues(td)\n",
    "td_y = targetValues(td)\n",
    "vd_x = getFeatureValues(vd)\n",
    "vd_y = targetValues(vd)\n",
    "testd_x = getFeatureValues(testd)\n",
    "testd_y = targetValues(testd)\n",
    "regressor = getRegressor()\n",
    "regressor = getFitModel(regressor,td_x,td_y)\n"
   ]
  },
  {
   "cell_type": "code",
   "execution_count": null,
   "metadata": {},
   "outputs": [],
   "source": []
  }
 ],
 "metadata": {
  "kernelspec": {
   "display_name": "Python 3",
   "language": "python",
   "name": "python3"
  },
  "language_info": {
   "codemirror_mode": {
    "name": "ipython",
    "version": 3
   },
   "file_extension": ".py",
   "mimetype": "text/x-python",
   "name": "python",
   "nbconvert_exporter": "python",
   "pygments_lexer": "ipython3",
   "version": "3.6.6"
  }
 },
 "nbformat": 4,
 "nbformat_minor": 2
}
