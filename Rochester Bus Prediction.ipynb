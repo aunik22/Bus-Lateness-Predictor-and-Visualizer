{
 "cells": [
  {
   "cell_type": "code",
   "execution_count": 112,
   "metadata": {},
   "outputs": [],
   "source": [
    "import numpy as np\n",
    "import pandas as pd\n",
    "from sklearn.preprocessing import LabelEncoder,OneHotEncoder\n",
    "from sklearn.linear_model import LinearRegression\n",
    "import math"
   ]
  },
  {
   "cell_type": "code",
   "execution_count": 113,
   "metadata": {},
   "outputs": [],
   "source": [
    "trainingPercent = 75\n",
    "testingPercent = 25"
   ]
  },
  {
   "cell_type": "code",
   "execution_count": 114,
   "metadata": {},
   "outputs": [],
   "source": [
    "def getDf(fileName):                       # Function to read file and store data in a dataframe\n",
    "    df = pd.read_csv(fileName)             # df is my dataframe with all the values\n",
    "    return df                              # Returns the dataframe"
   ]
  },
  {
   "cell_type": "code",
   "execution_count": 115,
   "metadata": {},
   "outputs": [],
   "source": [
    "def parseData(df):\n",
    "    subsidiaries = []\n",
    "    subsidiaries.append((df.loc[df['Subsidiary']=='Batavia Bus Service']))\n",
    "    subsidiaries.append((df.loc[df['Subsidiary']=='Lift Line']))\n",
    "    subsidiaries.append((df.loc[df['Subsidiary']=='Livingston Area Transportation Service']))\n",
    "    subsidiaries.append((df.loc[df['Subsidiary']=='Orleans Transit Service']))\n",
    "    subsidiaries.append((df.loc[df['Subsidiary']=='Regional Transit Service']))\n",
    "    subsidiaries.append((df.loc[df['Subsidiary']=='RTS Access']))\n",
    "    subsidiaries.append((df.loc[df['Subsidiary']=='RTS Genesee']))\n",
    "    subsidiaries.append((df.loc[df['Subsidiary']=='RTS Livingston']))\n",
    "    subsidiaries.append((df.loc[df['Subsidiary']=='RTS Ontario']))\n",
    "    subsidiaries.append((df.loc[df['Subsidiary']=='RTS Orleans']))\n",
    "    subsidiaries.append((df.loc[df['Subsidiary']=='RTS Seneca']))\n",
    "    subsidiaries.append((df.loc[df['Subsidiary']=='RTS Wayne']))\n",
    "    subsidiaries.append((df.loc[df['Subsidiary']=='RTS Wyoming']))\n",
    "    subsidiaries.append((df.loc[df['Subsidiary']=='Seneca Transit Service']))\n",
    "    subsidiaries.append((df.loc[df['Subsidiary']=='Wayne Area Transit Service']))\n",
    "    subsidiaries.append((df.loc[df['Subsidiary']=='Wayne Area Transportation Service']))\n",
    "    subsidiaries.append((df.loc[df['Subsidiary']=='Wyoming Transit Service']))\n",
    "    subsidiaries.append((df.loc[df['Subsidiary']=='Wyoming Transportation Service']))\n",
    "    \n",
    "    return subsidiaries"
   ]
  },
  {
   "cell_type": "code",
   "execution_count": 116,
   "metadata": {},
   "outputs": [],
   "source": [
    "def getFeatureValues(subsidiaries):                # Gets the feature matrix\n",
    "    features = []\n",
    "    for i in subsidiaries:\n",
    "        features.append(i.iloc[:,1:3])\n",
    "    return features"
   ]
  },
  {
   "cell_type": "code",
   "execution_count": 117,
   "metadata": {},
   "outputs": [],
   "source": [
    "def getTargetValues(subsidiaries):                # Get the target vector\n",
    "    targets = []\n",
    "    for i in subsidiaries:\n",
    "        targets.append(i.iloc[:,3:4])\n",
    "    return targets"
   ]
  },
  {
   "cell_type": "code",
   "execution_count": 118,
   "metadata": {},
   "outputs": [],
   "source": [
    "df = getDf('rochester-genesee-regional-transportation-authority-rgrta-percentage-of-buses-running-on-time-beginning-2009.csv')\n",
    "sub = parseData(df)\n",
    "features = getFeatureValues(sub)\n",
    "targets = getTargetValues(sub)\n"
   ]
  },
  {
   "cell_type": "code",
   "execution_count": 119,
   "metadata": {},
   "outputs": [],
   "source": [
    "def getTrainAndTest(feature,target,trainingPercent):\n",
    "    percentData = int(math.ceil((len(feature))*(trainingPercent*0.01)))\n",
    "    train_x = feature[0:percentData]\n",
    "    train_y = target[0:percentData]\n",
    "    test_x = feature[percentData:len(feature)]\n",
    "    test_y = target[percentData:len(target)]\n",
    "    \n",
    "    return train_x,train_y,test_x,test_y"
   ]
  },
  {
   "cell_type": "code",
   "execution_count": 120,
   "metadata": {},
   "outputs": [],
   "source": [
    "def getRegressor():\n",
    "    regressor = LinearRegression()\n",
    "    return regressor"
   ]
  },
  {
   "cell_type": "code",
   "execution_count": 121,
   "metadata": {},
   "outputs": [],
   "source": [
    "def getFitModel(regressor,trainingFeatures,trainingTargets):\n",
    "    return regressor.fit(trainingFeatures,trainingTargets)"
   ]
  },
  {
   "cell_type": "code",
   "execution_count": 122,
   "metadata": {},
   "outputs": [],
   "source": [
    "def getPrediction(regressor,feature):\n",
    "    predictions = regressor.predict(feature)\n",
    "    return predictions"
   ]
  },
  {
   "cell_type": "code",
   "execution_count": 123,
   "metadata": {},
   "outputs": [],
   "source": [
    "train_x = []\n",
    "train_y = []\n",
    "test_x = []\n",
    "test_y = []\n",
    "for i,j in zip(features,targets):\n",
    "    tx,ty,tex,tey = getTrainAndTest(i,j,trainingPercent)\n",
    "    train_x.append(tx)\n",
    "    train_y.append(ty)\n",
    "    test_x.append(tex)\n",
    "    test_y.append(tey)\n"
   ]
  },
  {
   "cell_type": "code",
   "execution_count": 124,
   "metadata": {},
   "outputs": [],
   "source": [
    "def getModel(train_x,train_y,test_x,test_y):\n",
    "    re = getRegressor()\n",
    "    re = getFitModel(re,train_x,train_y)\n",
    "    prediction = getPrediction(re,test_x)\n",
    "    correct = 0\n",
    "    for i,j in zip(prediction,test_y):\n",
    "        if abs(i-j) < 1:\n",
    "            correct+=1\n",
    "    return re,correct"
   ]
  },
  {
   "cell_type": "code",
   "execution_count": 127,
   "metadata": {},
   "outputs": [],
   "source": [
    "prediction = []\n",
    "for i,j,k,l in zip(train_x,train_y,test_x,test_y):\n",
    "    re = getRegressor()\n",
    "    re = getFitModel(re,i,j)\n",
    "    prediction.append(getPrediction(re,k))\n"
   ]
  },
  {
   "cell_type": "code",
   "execution_count": 128,
   "metadata": {},
   "outputs": [
    {
     "name": "stdout",
     "output_type": "stream",
     "text": [
      "[array([[89.57476051],\n",
      "       [89.49827409],\n",
      "       [89.42178767],\n",
      "       [89.34530124],\n",
      "       [89.26881482],\n",
      "       [89.1923284 ],\n",
      "       [89.11584198],\n",
      "       [89.03935555],\n",
      "       [88.96286913],\n",
      "       [88.88638271],\n",
      "       [88.80989629]]), array([[91.78901106],\n",
      "       [91.75031114],\n",
      "       [91.71161121],\n",
      "       [91.67291129],\n",
      "       [91.63421136],\n",
      "       [91.59551144],\n",
      "       [91.55681152],\n",
      "       [91.51811159],\n",
      "       [91.47941167],\n",
      "       [91.44071174],\n",
      "       [91.40201182]]), array([[97.34949232],\n",
      "       [97.27320086],\n",
      "       [97.19690939],\n",
      "       [97.12061792],\n",
      "       [97.04432646],\n",
      "       [96.96803499],\n",
      "       [96.89174353],\n",
      "       [96.81545206],\n",
      "       [96.7391606 ],\n",
      "       [96.66286913],\n",
      "       [96.58657767]]), array([[95.06352328],\n",
      "       [95.22555617],\n",
      "       [95.38758907],\n",
      "       [95.54962196],\n",
      "       [95.71165486],\n",
      "       [95.87368775],\n",
      "       [96.03572065],\n",
      "       [96.19775354],\n",
      "       [96.35978644],\n",
      "       [96.52181933],\n",
      "       [96.68385223]]), array([[93.78833575],\n",
      "       [95.36625831],\n",
      "       [95.38120766],\n",
      "       [95.39615701],\n",
      "       [95.41110635],\n",
      "       [95.4260557 ],\n",
      "       [95.44100505],\n",
      "       [95.4559544 ],\n",
      "       [95.47090375],\n",
      "       [95.4858531 ],\n",
      "       [95.50080245],\n",
      "       [95.5157518 ],\n",
      "       [95.53070115],\n",
      "       [97.1086237 ],\n",
      "       [97.12357305],\n",
      "       [97.1385224 ],\n",
      "       [97.15347175],\n",
      "       [97.1684211 ],\n",
      "       [97.18337045],\n",
      "       [97.1983198 ],\n",
      "       [97.21326915],\n",
      "       [97.2282185 ],\n",
      "       [97.24316785],\n",
      "       [97.2581172 ],\n",
      "       [97.27306655]]), array([[98.09259259],\n",
      "       [98.30195767],\n",
      "       [98.51132275],\n",
      "       [98.72068783],\n",
      "       [98.93005291],\n",
      "       [99.13941799],\n",
      "       [99.34878307],\n",
      "       [99.55814815],\n",
      "       [99.76751323]]), array([[94.94814815],\n",
      "       [95.06719577],\n",
      "       [95.18624339],\n",
      "       [95.30529101],\n",
      "       [95.42433862],\n",
      "       [95.54338624],\n",
      "       [95.66243386],\n",
      "       [95.78148148],\n",
      "       [95.9005291 ]]), array([[ 98.42222222],\n",
      "       [ 98.75063492],\n",
      "       [ 99.07904762],\n",
      "       [ 99.40746032],\n",
      "       [ 99.73587302],\n",
      "       [100.06428571],\n",
      "       [100.39269841],\n",
      "       [100.72111111],\n",
      "       [101.04952381]]), array([[ 99.05925926],\n",
      "       [ 99.51989418],\n",
      "       [ 99.9805291 ],\n",
      "       [100.44116402],\n",
      "       [100.90179894],\n",
      "       [101.36243386],\n",
      "       [101.82306878],\n",
      "       [102.2837037 ],\n",
      "       [102.74433862]]), array([[ 97.9037037],\n",
      "       [ 98.2537037],\n",
      "       [ 98.6037037],\n",
      "       [ 98.9537037],\n",
      "       [ 99.3037037],\n",
      "       [ 99.6537037],\n",
      "       [100.0037037],\n",
      "       [100.3537037],\n",
      "       [100.7037037]]), array([[100.01111111],\n",
      "       [100.01269841],\n",
      "       [100.01428571],\n",
      "       [100.01587302],\n",
      "       [100.01746032],\n",
      "       [100.01904762],\n",
      "       [100.02063492],\n",
      "       [100.02222222],\n",
      "       [100.02380952]]), array([[97.8037037 ],\n",
      "       [97.69656085],\n",
      "       [97.58941799],\n",
      "       [97.48227513],\n",
      "       [97.37513228],\n",
      "       [97.26798942],\n",
      "       [97.16084656],\n",
      "       [97.0537037 ],\n",
      "       [96.94656085]]), array([[97.18148148],\n",
      "       [97.27354497],\n",
      "       [97.36560847],\n",
      "       [97.45767196],\n",
      "       [97.54973545],\n",
      "       [97.64179894],\n",
      "       [97.73386243],\n",
      "       [97.82592593],\n",
      "       [97.91798942]]), array([[90.43888889],\n",
      "       [90.98888889],\n",
      "       [91.53888889]]), array([[95.48611111],\n",
      "       [95.69444444],\n",
      "       [95.90277778]]), array([[93.97125891],\n",
      "       [93.76413302],\n",
      "       [93.55700713],\n",
      "       [93.34988124],\n",
      "       [93.14275534],\n",
      "       [92.93562945],\n",
      "       [92.72850356],\n",
      "       [92.52137767]]), array([[98.355     ],\n",
      "       [98.42333333],\n",
      "       [98.49166667]]), array([[93.06583904],\n",
      "       [93.19343161],\n",
      "       [93.32102417],\n",
      "       [93.44861674],\n",
      "       [93.57620931],\n",
      "       [93.70380187],\n",
      "       [93.83139444],\n",
      "       [93.95898701]])]\n"
     ]
    }
   ],
   "source": [
    "print(prediction)"
   ]
  },
  {
   "cell_type": "code",
   "execution_count": null,
   "metadata": {},
   "outputs": [],
   "source": []
  }
 ],
 "metadata": {
  "kernelspec": {
   "display_name": "Python 3",
   "language": "python",
   "name": "python3"
  },
  "language_info": {
   "codemirror_mode": {
    "name": "ipython",
    "version": 3
   },
   "file_extension": ".py",
   "mimetype": "text/x-python",
   "name": "python",
   "nbconvert_exporter": "python",
   "pygments_lexer": "ipython3",
   "version": "3.6.5"
  }
 },
 "nbformat": 4,
 "nbformat_minor": 2
}
