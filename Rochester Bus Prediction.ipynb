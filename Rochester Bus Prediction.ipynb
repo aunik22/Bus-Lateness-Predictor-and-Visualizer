{
 "cells": [
  {
   "cell_type": "code",
   "execution_count": null,
   "metadata": {},
   "outputs": [],
   "source": [
    "import numpy as np\n",
    "import pandas as pd\n",
    "from sklearn.preprocessing import LabelEncoder,OneHotEncoder\n",
    "from sklearn.linear_model import LinearRegression\n",
    "import math"
   ]
  },
  {
   "cell_type": "code",
   "execution_count": null,
   "metadata": {},
   "outputs": [],
   "source": [
    "trainingPercent = 80\n",
    "testingPercent = 20"
   ]
  },
  {
   "cell_type": "code",
   "execution_count": null,
   "metadata": {},
   "outputs": [],
   "source": [
    "def getDf(fileName):                       # Function to read file and store data in a dataframe\n",
    "    df = pd.read_csv(fileName)             # df is my dataframe with all the values\n",
    "    return df                              # Returns the dataframe"
   ]
  },
  {
   "cell_type": "code",
   "execution_count": null,
   "metadata": {},
   "outputs": [],
   "source": [
    "def parseData(df):\n",
    "    subsidiaries = []\n",
    "    subsidiaries.append((df.loc[df['Subsidiary']=='Batavia Bus Service']))\n",
    "    subsidiaries.append((df.loc[df['Subsidiary']=='Lift Line']))\n",
    "    subsidiaries.append((df.loc[df['Subsidiary']=='Livingston Area Transportation Service']))\n",
    "    subsidiaries.append((df.loc[df['Subsidiary']=='Orleans Transit Service']))\n",
    "    subsidiaries.append((df.loc[df['Subsidiary']=='Regional Transit Service']))\n",
    "    subsidiaries.append((df.loc[df['Subsidiary']=='RTS Access']))\n",
    "    subsidiaries.append((df.loc[df['Subsidiary']=='RTS Genesee']))\n",
    "    subsidiaries.append((df.loc[df['Subsidiary']=='RTS Livingston']))\n",
    "    subsidiaries.append((df.loc[df['Subsidiary']=='RTS Ontario']))\n",
    "    subsidiaries.append((df.loc[df['Subsidiary']=='RTS Orleans']))\n",
    "    subsidiaries.append((df.loc[df['Subsidiary']=='RTS Seneca']))\n",
    "    subsidiaries.append((df.loc[df['Subsidiary']=='RTS Wayne']))\n",
    "    subsidiaries.append((df.loc[df['Subsidiary']=='RTS Wyoming']))\n",
    "    subsidiaries.append((df.loc[df['Subsidiary']=='Seneca Transit Service']))\n",
    "    subsidiaries.append((df.loc[df['Subsidiary']=='Wayne Area Transit Service']))\n",
    "    subsidiaries.append((df.loc[df['Subsidiary']=='Wayne Area Transportation Service']))\n",
    "    subsidiaries.append((df.loc[df['Subsidiary']=='Wyoming Transit Service']))\n",
    "    subsidiaries.append((df.loc[df['Subsidiary']=='Wyoming Transportation Service']))\n",
    "    \n",
    "    return subsidiaries"
   ]
  },
  {
   "cell_type": "code",
   "execution_count": null,
   "metadata": {},
   "outputs": [],
   "source": [
    "def getFeatureValues(subsidiaries):                # Gets the feature matrix\n",
    "    features = []\n",
    "    for i in subsidiaries:\n",
    "        features.append(i.iloc[:,1:3])\n",
    "    return features"
   ]
  },
  {
   "cell_type": "code",
   "execution_count": null,
   "metadata": {},
   "outputs": [],
   "source": [
    "def getTargetValues(subsidiaries):                # Get the target vector\n",
    "    targets = []\n",
    "    for i in subsidiaries:\n",
    "        targets.append(i.iloc[:,3:4])\n",
    "    return targets"
   ]
  },
  {
   "cell_type": "code",
   "execution_count": null,
   "metadata": {},
   "outputs": [],
   "source": [
    "df = getDf('rochester-genesee-regional-transportation-authority-rgrta-percentage-of-buses-running-on-time-beginning-2009.csv')\n",
    "sub = parseData(df)\n",
    "features = getFeatureValues(sub)\n",
    "print(len(features))\n",
    "targets = getTargetValues(sub)\n",
    "print(targets)"
   ]
  },
  {
   "cell_type": "code",
   "execution_count": null,
   "metadata": {},
   "outputs": [],
   "source": [
    "def getTrainAndTest(feature,target,trainingPercent):\n",
    "    percentData = int(math.ceil((len(feature))*(trainingPercent*0.01)))\n",
    "    train_x = feature[0:percentData]\n",
    "    train_y = target[0:percentData]\n",
    "    testx_y = feature[percentData:len(feature)]\n",
    "    test_y = target[percentData:len(target)]\n",
    "    \n",
    "    return train_x,train_y,test_x,test_y"
   ]
  },
  {
   "cell_type": "code",
   "execution_count": null,
   "metadata": {},
   "outputs": [],
   "source": [
    "def getRegressor():\n",
    "    regressor = LinearRegression()\n",
    "    return regressor"
   ]
  },
  {
   "cell_type": "code",
   "execution_count": null,
   "metadata": {},
   "outputs": [],
   "source": [
    "def getFitModel(regressor,trainingFeatures,trainingTargets):\n",
    "    return regressor.fit(trainingFeatures,trainingTargets)"
   ]
  },
  {
   "cell_type": "code",
   "execution_count": null,
   "metadata": {},
   "outputs": [],
   "source": [
    "def getPrediction(regressor,feature):\n",
    "    predictions = regressor.predict(feature)\n",
    "    return predictions"
   ]
  },
  {
   "cell_type": "code",
   "execution_count": null,
   "metadata": {},
   "outputs": [],
   "source": [
    "train_x = []\n",
    "train_y = []\n",
    "test_x = []\n",
    "test_y = []\n",
    "for i,j in zip(features,targets):\n",
    "    tx,ty,tex,tey = getTrainAndTest(i,j,trainingPercent)\n",
    "    train_x.append(tx)\n",
    "    train_y.append(ty)\n",
    "    test_x.append(tex)\n",
    "    test_y.append(tey)\n"
   ]
  },
  {
   "cell_type": "code",
   "execution_count": null,
   "metadata": {},
   "outputs": [],
   "source": [
    "def getModel(train_x,train_y,test_x,test_y):\n",
    "    re = getRegressor()\n",
    "    re = getFitModel(re,train_x,train_y)\n",
    "    prediction = getPrediction(re,test_x)\n",
    "    correct = 0\n",
    "    for i,j in zip(prediction,test_y):\n",
    "        if abs(i-j) < 1:\n",
    "            correct+=1\n",
    "    return re,correct"
   ]
  },
  {
   "cell_type": "code",
   "execution_count": null,
   "metadata": {},
   "outputs": [],
   "source": []
  }
 ],
 "metadata": {
  "kernelspec": {
   "display_name": "Python 3",
   "language": "python",
   "name": "python3"
  },
  "language_info": {
   "codemirror_mode": {
    "name": "ipython",
    "version": 3
   },
   "file_extension": ".py",
   "mimetype": "text/x-python",
   "name": "python",
   "nbconvert_exporter": "python",
   "pygments_lexer": "ipython3",
   "version": "3.6.5"
  }
 },
 "nbformat": 4,
 "nbformat_minor": 2
}
