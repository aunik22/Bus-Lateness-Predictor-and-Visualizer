{
 "cells": [
  {
   "cell_type": "code",
   "execution_count": 31,
   "metadata": {},
   "outputs": [],
   "source": [
    "import numpy as np\n",
    "import pandas as pd"
   ]
  },
  {
   "cell_type": "code",
   "execution_count": 32,
   "metadata": {},
   "outputs": [],
   "source": [
    "trainingPercent = 70\n",
    "validationPercent = 10\n",
    "testingPercent = 20"
   ]
  },
  {
   "cell_type": "code",
   "execution_count": 33,
   "metadata": {},
   "outputs": [],
   "source": [
    "def getDf(fileName):                       # Function to read file and store data in a dataframe\n",
    "    df = pd.read_csv(fileName)             # df is my dataframe with all the values\n",
    "    return df                              # Returns the dataframe"
   ]
  },
  {
   "cell_type": "code",
   "execution_count": 34,
   "metadata": {},
   "outputs": [],
   "source": [
    "def encodeSubsidiary(df):                             # Encodes the categorical subsidiaries to numerical values\n",
    "    df.Subsidiary = pd.Categorical(df.Subsidiary)\n",
    "    df['Subsidiary'] = df.Subsidiary.cat.codes\n",
    "    return df                                         # Returns the modified dataframe"
   ]
  },
  {
   "cell_type": "code",
   "execution_count": 35,
   "metadata": {},
   "outputs": [],
   "source": [
    "def getFeatureValues(df):                # Gets the feature matrix\n",
    "    featureData = df.iloc[:,0:3]\n",
    "    return featureData.values"
   ]
  },
  {
   "cell_type": "code",
   "execution_count": 36,
   "metadata": {},
   "outputs": [],
   "source": [
    "def normalizeValues(m):             # Function to normalize any matrix in parameter\n",
    "    m = (m-m.mean())/m.std()        # Formula to normalize matrix for python\n",
    "    return m                        # Return normalized matrix"
   ]
  },
  {
   "cell_type": "code",
   "execution_count": null,
   "metadata": {},
   "outputs": [],
   "source": [
    "def targetValues(df):                # Get the target vector\n",
    "    targetData = df.iloc[:, 3:4]\n",
    "    return targetData.values"
   ]
  }
 ],
 "metadata": {
  "kernelspec": {
   "display_name": "Python 3",
   "language": "python",
   "name": "python3"
  },
  "language_info": {
   "codemirror_mode": {
    "name": "ipython",
    "version": 3
   },
   "file_extension": ".py",
   "mimetype": "text/x-python",
   "name": "python",
   "nbconvert_exporter": "python",
   "pygments_lexer": "ipython3",
   "version": "3.6.6"
  }
 },
 "nbformat": 4,
 "nbformat_minor": 2
}
